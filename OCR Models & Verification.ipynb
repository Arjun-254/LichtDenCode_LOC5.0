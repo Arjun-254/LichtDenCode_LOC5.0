{
 "cells": [
  {
   "cell_type": "code",
   "execution_count": 1,
   "id": "b7502d4a",
   "metadata": {},
   "outputs": [
    {
     "name": "stdout",
     "output_type": "stream",
     "text": [
      "[2023/03/12 19:17:36] ppocr DEBUG: Namespace(help='==SUPPRESS==', use_gpu=False, use_xpu=False, use_npu=False, ir_optim=True, use_tensorrt=False, min_subgraph_size=15, precision='fp32', gpu_mem=500, image_dir=None, page_num=0, det_algorithm='DB', det_model_dir='/home/siddhant/.paddleocr/whl/det/ch/ch_PP-OCRv3_det_infer', det_limit_side_len=960, det_limit_type='max', det_box_type='quad', det_db_thresh=0.3, det_db_box_thresh=0.6, det_db_unclip_ratio=1.5, max_batch_size=10, use_dilation=False, det_db_score_mode='fast', det_east_score_thresh=0.8, det_east_cover_thresh=0.1, det_east_nms_thresh=0.2, det_sast_score_thresh=0.5, det_sast_nms_thresh=0.2, det_pse_thresh=0, det_pse_box_thresh=0.85, det_pse_min_area=16, det_pse_scale=1, scales=[8, 16, 32], alpha=1.0, beta=1.0, fourier_degree=5, rec_algorithm='SVTR_LCNet', rec_model_dir='/home/siddhant/.paddleocr/whl/rec/ch/ch_PP-OCRv3_rec_infer', rec_image_inverse=True, rec_image_shape='3, 48, 320', rec_batch_num=6, max_text_length=25, rec_char_dict_path='/home/siddhant/anaconda3/lib/python3.9/site-packages/paddleocr/ppocr/utils/ppocr_keys_v1.txt', use_space_char=True, vis_font_path='./doc/fonts/simfang.ttf', drop_score=0.5, e2e_algorithm='PGNet', e2e_model_dir=None, e2e_limit_side_len=768, e2e_limit_type='max', e2e_pgnet_score_thresh=0.5, e2e_char_dict_path='./ppocr/utils/ic15_dict.txt', e2e_pgnet_valid_set='totaltext', e2e_pgnet_mode='fast', use_angle_cls=False, cls_model_dir='/home/siddhant/.paddleocr/whl/cls/ch_ppocr_mobile_v2.0_cls_infer', cls_image_shape='3, 48, 192', label_list=['0', '180'], cls_batch_num=6, cls_thresh=0.9, enable_mkldnn=False, cpu_threads=10, use_pdserving=False, warmup=False, sr_model_dir=None, sr_image_shape='3, 32, 128', sr_batch_num=1, draw_img_save_dir='./inference_results', save_crop_res=False, crop_res_save_dir='./output', use_mp=False, total_process_num=1, process_id=0, benchmark=False, save_log_path='./log_output/', show_log=True, use_onnx=False, output='./output', table_max_len=488, table_algorithm='TableAttn', table_model_dir=None, merge_no_span_structure=True, table_char_dict_path=None, layout_model_dir=None, layout_dict_path=None, layout_score_threshold=0.5, layout_nms_threshold=0.5, kie_algorithm='LayoutXLM', ser_model_dir=None, re_model_dir=None, use_visual_backbone=True, ser_dict_path='../train_data/XFUND/class_list_xfun.txt', ocr_order_method=None, mode='structure', image_orientation=False, layout=True, table=True, ocr=True, recovery=False, use_pdf2docx_api=False, lang='ch', det=True, rec=True, type='ocr', ocr_version='PP-OCRv3', structure_version='PP-StructureV2')\n",
      "[2023/03/12 19:17:37] ppocr WARNING: Since the angle classifier is not initialized, the angle classifier will not be uesd during the forward process\n",
      "[2023/03/12 19:17:37] ppocr DEBUG: dt_boxes num : 32, elapse : 0.20478558540344238\n",
      "[2023/03/12 19:17:41] ppocr DEBUG: rec_res num  : 32, elapse : 3.592151403427124\n"
     ]
    }
   ],
   "source": [
    "import paddleocr\n",
    "ocr_reader = paddleocr.PaddleOCR()\n",
    "DL_image = 'DL.png'\n",
    "result = ocr_reader.ocr(DL_image)\n",
    "DL_text = ' '.join([word[1][0] for line in result for word in line])"
   ]
  },
  {
   "cell_type": "code",
   "execution_count": 2,
   "id": "82a1a60a",
   "metadata": {},
   "outputs": [
    {
     "name": "stdout",
     "output_type": "stream",
     "text": [
      "(ssuing Authority: Signature&IDOr PIN:400019 MU Add :550,Flat No 301. Name :ARJUNAMEET SHAH Valid Till :23-04-2043 (NT) DLNo:MH0120220043681 MAHARASHTRASTATEMOTORDRIVINGLICENCE MH01 MontBlanc DOB:24-04-2003 LMV COV AUTHORISATIONTODRIVEFOLLOM THEUNIONOFINDIA 29-06-2022 DOI DOI : 29-06-2022 BG: 29-06-2022 VINGCLASS ImpressionofHoider Signature/Thumb AfrnS RORM 16 (2)\n"
     ]
    }
   ],
   "source": [
    "print(DL_text)"
   ]
  },
  {
   "cell_type": "code",
   "execution_count": 3,
   "id": "05cb195c",
   "metadata": {},
   "outputs": [],
   "source": [
    "import warnings\n",
    "warnings.filterwarnings(\"ignore\")"
   ]
  },
  {
   "cell_type": "code",
   "execution_count": 4,
   "id": "a6de22be",
   "metadata": {},
   "outputs": [
    {
     "name": "stdout",
     "output_type": "stream",
     "text": [
      "MH0120220043681\n"
     ]
    }
   ],
   "source": [
    "import re\n",
    "\n",
    "match = re.search(r\"DLNo:(\\w+)\", DL_text)\n",
    "if match:\n",
    "    dlno = match.group(1)\n",
    "    print(dlno)\n"
   ]
  },
  {
   "cell_type": "code",
   "execution_count": 5,
   "id": "3dee12e5",
   "metadata": {},
   "outputs": [
    {
     "name": "stdout",
     "output_type": "stream",
     "text": [
      "[2023/03/12 19:17:41] ppocr DEBUG: Namespace(help='==SUPPRESS==', use_gpu=False, use_xpu=False, use_npu=False, ir_optim=True, use_tensorrt=False, min_subgraph_size=15, precision='fp32', gpu_mem=500, image_dir=None, page_num=0, det_algorithm='DB', det_model_dir='/home/siddhant/.paddleocr/whl/det/ch/ch_PP-OCRv3_det_infer', det_limit_side_len=960, det_limit_type='max', det_box_type='quad', det_db_thresh=0.3, det_db_box_thresh=0.6, det_db_unclip_ratio=1.5, max_batch_size=10, use_dilation=False, det_db_score_mode='fast', det_east_score_thresh=0.8, det_east_cover_thresh=0.1, det_east_nms_thresh=0.2, det_sast_score_thresh=0.5, det_sast_nms_thresh=0.2, det_pse_thresh=0, det_pse_box_thresh=0.85, det_pse_min_area=16, det_pse_scale=1, scales=[8, 16, 32], alpha=1.0, beta=1.0, fourier_degree=5, rec_algorithm='SVTR_LCNet', rec_model_dir='/home/siddhant/.paddleocr/whl/rec/ch/ch_PP-OCRv3_rec_infer', rec_image_inverse=True, rec_image_shape='3, 48, 320', rec_batch_num=6, max_text_length=25, rec_char_dict_path='/home/siddhant/anaconda3/lib/python3.9/site-packages/paddleocr/ppocr/utils/ppocr_keys_v1.txt', use_space_char=True, vis_font_path='./doc/fonts/simfang.ttf', drop_score=0.5, e2e_algorithm='PGNet', e2e_model_dir=None, e2e_limit_side_len=768, e2e_limit_type='max', e2e_pgnet_score_thresh=0.5, e2e_char_dict_path='./ppocr/utils/ic15_dict.txt', e2e_pgnet_valid_set='totaltext', e2e_pgnet_mode='fast', use_angle_cls=False, cls_model_dir='/home/siddhant/.paddleocr/whl/cls/ch_ppocr_mobile_v2.0_cls_infer', cls_image_shape='3, 48, 192', label_list=['0', '180'], cls_batch_num=6, cls_thresh=0.9, enable_mkldnn=False, cpu_threads=10, use_pdserving=False, warmup=False, sr_model_dir=None, sr_image_shape='3, 32, 128', sr_batch_num=1, draw_img_save_dir='./inference_results', save_crop_res=False, crop_res_save_dir='./output', use_mp=False, total_process_num=1, process_id=0, benchmark=False, save_log_path='./log_output/', show_log=True, use_onnx=False, output='./output', table_max_len=488, table_algorithm='TableAttn', table_model_dir=None, merge_no_span_structure=True, table_char_dict_path=None, layout_model_dir=None, layout_dict_path=None, layout_score_threshold=0.5, layout_nms_threshold=0.5, kie_algorithm='LayoutXLM', ser_model_dir=None, re_model_dir=None, use_visual_backbone=True, ser_dict_path='../train_data/XFUND/class_list_xfun.txt', ocr_order_method=None, mode='structure', image_orientation=False, layout=True, table=True, ocr=True, recovery=False, use_pdf2docx_api=False, lang='ch', det=True, rec=True, type='ocr', ocr_version='PP-OCRv3', structure_version='PP-StructureV2')\n",
      "[2023/03/12 19:17:42] ppocr WARNING: Since the angle classifier is not initialized, the angle classifier will not be uesd during the forward process\n",
      "[2023/03/12 19:17:42] ppocr DEBUG: dt_boxes num : 14, elapse : 0.10350513458251953\n",
      "[2023/03/12 19:17:43] ppocr DEBUG: rec_res num  : 14, elapse : 1.5845448970794678\n"
     ]
    }
   ],
   "source": [
    "ocr_reader = paddleocr.PaddleOCR()\n",
    "pan_image = 'pan.png'\n",
    "result = ocr_reader.ocr(pan_image)\n",
    "pan_text = ' '.join([word[1][0] for line in result for word in line])"
   ]
  },
  {
   "cell_type": "code",
   "execution_count": 6,
   "id": "3486f275",
   "metadata": {},
   "outputs": [
    {
     "name": "stdout",
     "output_type": "stream",
     "text": [
      "BNZPM2501F\n"
     ]
    }
   ],
   "source": [
    "match = re.search(r\"Permanent Account Number\\s+([A-Z]{5}\\d{4}[A-Z])\", pan_text)\n",
    "if match:\n",
    "    dlno = match.group(1)\n",
    "    print(dlno)\n",
    "if match==None:\n",
    "    print(False)"
   ]
  },
  {
   "cell_type": "code",
   "execution_count": 7,
   "id": "9f582efd",
   "metadata": {},
   "outputs": [
    {
     "name": "stdout",
     "output_type": "stream",
     "text": [
      "[2023/03/12 19:17:43] ppocr DEBUG: Namespace(help='==SUPPRESS==', use_gpu=False, use_xpu=False, use_npu=False, ir_optim=True, use_tensorrt=False, min_subgraph_size=15, precision='fp32', gpu_mem=500, image_dir=None, page_num=0, det_algorithm='DB', det_model_dir='/home/siddhant/.paddleocr/whl/det/ch/ch_PP-OCRv3_det_infer', det_limit_side_len=960, det_limit_type='max', det_box_type='quad', det_db_thresh=0.3, det_db_box_thresh=0.6, det_db_unclip_ratio=1.5, max_batch_size=10, use_dilation=False, det_db_score_mode='fast', det_east_score_thresh=0.8, det_east_cover_thresh=0.1, det_east_nms_thresh=0.2, det_sast_score_thresh=0.5, det_sast_nms_thresh=0.2, det_pse_thresh=0, det_pse_box_thresh=0.85, det_pse_min_area=16, det_pse_scale=1, scales=[8, 16, 32], alpha=1.0, beta=1.0, fourier_degree=5, rec_algorithm='SVTR_LCNet', rec_model_dir='/home/siddhant/.paddleocr/whl/rec/ch/ch_PP-OCRv3_rec_infer', rec_image_inverse=True, rec_image_shape='3, 48, 320', rec_batch_num=6, max_text_length=25, rec_char_dict_path='/home/siddhant/anaconda3/lib/python3.9/site-packages/paddleocr/ppocr/utils/ppocr_keys_v1.txt', use_space_char=True, vis_font_path='./doc/fonts/simfang.ttf', drop_score=0.5, e2e_algorithm='PGNet', e2e_model_dir=None, e2e_limit_side_len=768, e2e_limit_type='max', e2e_pgnet_score_thresh=0.5, e2e_char_dict_path='./ppocr/utils/ic15_dict.txt', e2e_pgnet_valid_set='totaltext', e2e_pgnet_mode='fast', use_angle_cls=False, cls_model_dir='/home/siddhant/.paddleocr/whl/cls/ch_ppocr_mobile_v2.0_cls_infer', cls_image_shape='3, 48, 192', label_list=['0', '180'], cls_batch_num=6, cls_thresh=0.9, enable_mkldnn=False, cpu_threads=10, use_pdserving=False, warmup=False, sr_model_dir=None, sr_image_shape='3, 32, 128', sr_batch_num=1, draw_img_save_dir='./inference_results', save_crop_res=False, crop_res_save_dir='./output', use_mp=False, total_process_num=1, process_id=0, benchmark=False, save_log_path='./log_output/', show_log=True, use_onnx=False, output='./output', table_max_len=488, table_algorithm='TableAttn', table_model_dir=None, merge_no_span_structure=True, table_char_dict_path=None, layout_model_dir=None, layout_dict_path=None, layout_score_threshold=0.5, layout_nms_threshold=0.5, kie_algorithm='LayoutXLM', ser_model_dir=None, re_model_dir=None, use_visual_backbone=True, ser_dict_path='../train_data/XFUND/class_list_xfun.txt', ocr_order_method=None, mode='structure', image_orientation=False, layout=True, table=True, ocr=True, recovery=False, use_pdf2docx_api=False, lang='ch', det=True, rec=True, type='ocr', ocr_version='PP-OCRv3', structure_version='PP-StructureV2')\n",
      "[2023/03/12 19:17:44] ppocr WARNING: Since the angle classifier is not initialized, the angle classifier will not be uesd during the forward process\n",
      "[2023/03/12 19:17:44] ppocr DEBUG: dt_boxes num : 37, elapse : 0.2093031406402588\n",
      "[2023/03/12 19:17:49] ppocr DEBUG: rec_res num  : 37, elapse : 4.766458511352539\n"
     ]
    }
   ],
   "source": [
    "ocr_reader = paddleocr.PaddleOCR()\n",
    "aad_image = 'aadhar.png'\n",
    "result = ocr_reader.ocr(aad_image)\n",
    "aad_text = ' '.join([word[1][0] for line in result for word in line])"
   ]
  },
  {
   "cell_type": "code",
   "execution_count": 8,
   "id": "c55143ab",
   "metadata": {},
   "outputs": [
    {
     "data": {
      "text/plain": [
       "'HRAARR Governmentof India efqwm- gi/ Enroliment No 1104/20602/21007 To. Siddhant Dutta S/O: Shiv Shankar Dutta 21B/206, Green View CHS JVLR Western Express Mighway Bimbisar Nagar,Goregaon East Aareymilk Colony Aareymilk Colony Goregaon East Mumbai Maharashtra 400065 9833122514 SH199113330DF e/YourAadhaarNo.: 247851716241 - ................... GOVERN NTOFINDIA fam Siddhant Dutta :frse Father : Shiv Shankar Duta zmr t / Year of Birth : 2004 qe / Male 2478 51716241 mscanner'"
      ]
     },
     "execution_count": 8,
     "metadata": {},
     "output_type": "execute_result"
    }
   ],
   "source": [
    "aad_text"
   ]
  },
  {
   "cell_type": "code",
   "execution_count": 9,
   "id": "8769dc9e",
   "metadata": {},
   "outputs": [
    {
     "name": "stdout",
     "output_type": "stream",
     "text": [
      "247851716241\n"
     ]
    }
   ],
   "source": [
    "match = re.search(r\"YourAadhaarNo\\.:\\s+(\\d{12})\", aad_text)\n",
    "if match:\n",
    "    dlno = match.group(1)\n",
    "    print(dlno)    \n",
    "if match==None:\n",
    "    print(False)"
   ]
  },
  {
   "cell_type": "code",
   "execution_count": 10,
   "id": "2a75ab32",
   "metadata": {},
   "outputs": [],
   "source": [
    "import requests"
   ]
  },
  {
   "cell_type": "code",
   "execution_count": 11,
   "id": "d6fbc5bf",
   "metadata": {},
   "outputs": [],
   "source": [
    "import paddleocr\n",
    "import json\n",
    "import re\n",
    "import warnings\n",
    "import logreset # pip install logging-reset\n",
    "logreset.reset_logging() # before you logging setting\n",
    "warnings.filterwarnings(\"ignore\")\n",
    "def pipeline(image):        \n",
    "    ocr_reader = paddleocr.PaddleOCR()\n",
    "    result = ocr_reader.ocr(image)\n",
    "    text = ' '.join([word[1][0] for line in result for word in line])\n",
    "    match1 = re.search(r\"DLNo:(\\w+)\", text)\n",
    "    match2 = re.search(r\"Permanent Account Number\\s+([A-Z]{5}\\d{4}[A-Z])\", text)\n",
    "    match3 = re.search(r\"YourAadhaarNo\\.:\\s+(\\d{12})\", text)\n",
    "    if match1:\n",
    "        dlno = match1.group(1)\n",
    "        print(\"Driving licence \"+dlno)                \n",
    "        url = \"https://verification-solutions.p.rapidapi.com/v3/tasks/sync/verify_with_source/ind_driving_license\"\n",
    "        payload = {\"task_id\": \"74f4c926-250c-43ca-9c53-453e87ceacd1\",\"group_id\": \"8e16424a-58fc-4ba4-ab20-5bc8e7c3c41e\",\"data\": {\"id_number\": dlno ,\"date_of_birth\": \"1976-07-16\"}}        \n",
    "        headers = {\n",
    "        \"content-type\": \"application/json\",\n",
    "        \"X-RapidAPI-Key\": \"0768fbb2bemsh0762c21b0ca177bp17cc16jsn578413086999\",\n",
    "        \"X-RapidAPI-Host\": \"verification-solutions.p.rapidapi.com\"}\n",
    "        response = requests.request(\"POST\", url, json=payload, headers=headers)   \n",
    "        response_dict = json.loads(response.text)   \n",
    "        print(response_dict)\n",
    "        if response_dict['result']['source_output']['status']==\"id_found\":\n",
    "            return 0.3\n",
    "        else:\n",
    "            return 0          \n",
    "    elif match2:\n",
    "        dlno = match2.group(1)\n",
    "        print(\"PAN No. \"+dlno)\n",
    "        url = \"https://pan-card-verification1.p.rapidapi.com/v3/tasks/sync/verify_with_source/ind_pan\"\n",
    "        payload = {\n",
    "        \"task_id\": \"74f4c926-250c-43ca-9c53-453e87ceacd1\",\n",
    "        \"group_id\": \"8e16424a-58fc-4ba4-ab20-5bc8e7c3c41e\",\n",
    "        \"data\": {\"id_number\": dlno}\n",
    "        }\n",
    "        headers = {\n",
    "        \"content-type\": \"application/json\",\n",
    "        \"X-RapidAPI-Key\": \"0768fbb2bemsh0762c21b0ca177bp17cc16jsn578413086999\",\n",
    "        \"X-RapidAPI-Host\": \"pan-card-verification1.p.rapidapi.com\"\n",
    "        }\n",
    "        response = requests.request(\"POST\", url, json=payload, headers=headers)\n",
    "        response_dict = json.loads(response.text)                     \n",
    "        if response_dict['result']['source_output']['status']==\"id_found\":\n",
    "            return 0.3\n",
    "        else:\n",
    "            return 0                   \n",
    "    elif match3:        \n",
    "        dlno = match3.group(1)\n",
    "        print(\"Aadhaar No. \"+dlno)    \n",
    "        url = \"https://verifyaadhaarnumber.p.rapidapi.com/Uidverifywebsvcv1/VerifyAadhaarNumber\"\n",
    "        payload = \"txn_id=17c6fa41-778f-49c1-a80a-cfaf7fae2fb8&consent=Y&uidnumber=\"+dlno+\"&clientid=222&method=uidvalidatev2\"\n",
    "        headers = {\"content-type\": \"application/x-www-form-urlencoded\",\"X-RapidAPI-Key\": \"0768fbb2bemsh0762c21b0ca177bp17cc16jsn578413086999\",\"X-RapidAPI-Host\": \"verifyaadhaarnumber.p.rapidapi.com\"}\n",
    "        response = requests.request(\"POST\", url, data=payload, headers=headers)\n",
    "        response_dict = json.loads(response.text)                             \n",
    "        if response_dict['Succeeded']['Verify_status']==\"Uid is Valid\":\n",
    "            return 0.3\n",
    "        else:\n",
    "            return 0         \n",
    "    else:\n",
    "        print('Invalid Document')    "
   ]
  },
  {
   "cell_type": "code",
   "execution_count": 12,
   "id": "62bf8c76",
   "metadata": {},
   "outputs": [],
   "source": [
    "def risk(email,image1,image2,image3):\n",
    "    a=pipeline(image1)\n",
    "    b=pipeline(image2)\n",
    "    c=pipeline(image3)\n",
    "    url = \"https://email-risk-scoring.p.rapidapi.com/deep_email_check\"    \n",
    "    payload = \"email=\"+re.sub(r'@', r'%40', email)    \n",
    "    headers = {\"content-type\": \"application/x-www-form-urlencoded\",\"Content-Type\": \"application/x-www-form-urlencoded\",\"X-API-KEY\": \"7cd2e9c214085cb898d6df24bfdbcf643acc73c2ab330b82ea\",\"X-RapidAPI-Key\": \"0768fbb2bemsh0762c21b0ca177bp17cc16jsn578413086999\",\"X-RapidAPI-Host\": \"email-risk-scoring.p.rapidapi.com\"}\n",
    "    response = requests.request(\"POST\", url, data=payload, headers=headers)    \n",
    "    response_dict = json.loads(response.text)                                 \n",
    "    val=float(response_dict['deep_email_check']['risk_score'])    \n",
    "    print(val)\n",
    "    return 0.4*val+0.6*(a+b+c)"
   ]
  },
  {
   "cell_type": "code",
   "execution_count": 13,
   "id": "3d922b67",
   "metadata": {},
   "outputs": [
    {
     "name": "stdout",
     "output_type": "stream",
     "text": [
      "[2023/03/12 19:17:49] ppocr DEBUG: Namespace(help='==SUPPRESS==', use_gpu=False, use_xpu=False, use_npu=False, ir_optim=True, use_tensorrt=False, min_subgraph_size=15, precision='fp32', gpu_mem=500, image_dir=None, page_num=0, det_algorithm='DB', det_model_dir='/home/siddhant/.paddleocr/whl/det/ch/ch_PP-OCRv3_det_infer', det_limit_side_len=960, det_limit_type='max', det_box_type='quad', det_db_thresh=0.3, det_db_box_thresh=0.6, det_db_unclip_ratio=1.5, max_batch_size=10, use_dilation=False, det_db_score_mode='fast', det_east_score_thresh=0.8, det_east_cover_thresh=0.1, det_east_nms_thresh=0.2, det_sast_score_thresh=0.5, det_sast_nms_thresh=0.2, det_pse_thresh=0, det_pse_box_thresh=0.85, det_pse_min_area=16, det_pse_scale=1, scales=[8, 16, 32], alpha=1.0, beta=1.0, fourier_degree=5, rec_algorithm='SVTR_LCNet', rec_model_dir='/home/siddhant/.paddleocr/whl/rec/ch/ch_PP-OCRv3_rec_infer', rec_image_inverse=True, rec_image_shape='3, 48, 320', rec_batch_num=6, max_text_length=25, rec_char_dict_path='/home/siddhant/anaconda3/lib/python3.9/site-packages/paddleocr/ppocr/utils/ppocr_keys_v1.txt', use_space_char=True, vis_font_path='./doc/fonts/simfang.ttf', drop_score=0.5, e2e_algorithm='PGNet', e2e_model_dir=None, e2e_limit_side_len=768, e2e_limit_type='max', e2e_pgnet_score_thresh=0.5, e2e_char_dict_path='./ppocr/utils/ic15_dict.txt', e2e_pgnet_valid_set='totaltext', e2e_pgnet_mode='fast', use_angle_cls=False, cls_model_dir='/home/siddhant/.paddleocr/whl/cls/ch_ppocr_mobile_v2.0_cls_infer', cls_image_shape='3, 48, 192', label_list=['0', '180'], cls_batch_num=6, cls_thresh=0.9, enable_mkldnn=False, cpu_threads=10, use_pdserving=False, warmup=False, sr_model_dir=None, sr_image_shape='3, 32, 128', sr_batch_num=1, draw_img_save_dir='./inference_results', save_crop_res=False, crop_res_save_dir='./output', use_mp=False, total_process_num=1, process_id=0, benchmark=False, save_log_path='./log_output/', show_log=True, use_onnx=False, output='./output', table_max_len=488, table_algorithm='TableAttn', table_model_dir=None, merge_no_span_structure=True, table_char_dict_path=None, layout_model_dir=None, layout_dict_path=None, layout_score_threshold=0.5, layout_nms_threshold=0.5, kie_algorithm='LayoutXLM', ser_model_dir=None, re_model_dir=None, use_visual_backbone=True, ser_dict_path='../train_data/XFUND/class_list_xfun.txt', ocr_order_method=None, mode='structure', image_orientation=False, layout=True, table=True, ocr=True, recovery=False, use_pdf2docx_api=False, lang='ch', det=True, rec=True, type='ocr', ocr_version='PP-OCRv3', structure_version='PP-StructureV2')\n",
      "[2023/03/12 19:17:49] ppocr WARNING: Since the angle classifier is not initialized, the angle classifier will not be uesd during the forward process\n",
      "[2023/03/12 19:17:50] ppocr DEBUG: dt_boxes num : 37, elapse : 0.2223372459411621\n",
      "[2023/03/12 19:17:55] ppocr DEBUG: rec_res num  : 37, elapse : 4.811929225921631\n",
      "Aadhaar No. 247851716241\n",
      "[2023/03/12 19:18:06] ppocr DEBUG: Namespace(help='==SUPPRESS==', use_gpu=False, use_xpu=False, use_npu=False, ir_optim=True, use_tensorrt=False, min_subgraph_size=15, precision='fp32', gpu_mem=500, image_dir=None, page_num=0, det_algorithm='DB', det_model_dir='/home/siddhant/.paddleocr/whl/det/ch/ch_PP-OCRv3_det_infer', det_limit_side_len=960, det_limit_type='max', det_box_type='quad', det_db_thresh=0.3, det_db_box_thresh=0.6, det_db_unclip_ratio=1.5, max_batch_size=10, use_dilation=False, det_db_score_mode='fast', det_east_score_thresh=0.8, det_east_cover_thresh=0.1, det_east_nms_thresh=0.2, det_sast_score_thresh=0.5, det_sast_nms_thresh=0.2, det_pse_thresh=0, det_pse_box_thresh=0.85, det_pse_min_area=16, det_pse_scale=1, scales=[8, 16, 32], alpha=1.0, beta=1.0, fourier_degree=5, rec_algorithm='SVTR_LCNet', rec_model_dir='/home/siddhant/.paddleocr/whl/rec/ch/ch_PP-OCRv3_rec_infer', rec_image_inverse=True, rec_image_shape='3, 48, 320', rec_batch_num=6, max_text_length=25, rec_char_dict_path='/home/siddhant/anaconda3/lib/python3.9/site-packages/paddleocr/ppocr/utils/ppocr_keys_v1.txt', use_space_char=True, vis_font_path='./doc/fonts/simfang.ttf', drop_score=0.5, e2e_algorithm='PGNet', e2e_model_dir=None, e2e_limit_side_len=768, e2e_limit_type='max', e2e_pgnet_score_thresh=0.5, e2e_char_dict_path='./ppocr/utils/ic15_dict.txt', e2e_pgnet_valid_set='totaltext', e2e_pgnet_mode='fast', use_angle_cls=False, cls_model_dir='/home/siddhant/.paddleocr/whl/cls/ch_ppocr_mobile_v2.0_cls_infer', cls_image_shape='3, 48, 192', label_list=['0', '180'], cls_batch_num=6, cls_thresh=0.9, enable_mkldnn=False, cpu_threads=10, use_pdserving=False, warmup=False, sr_model_dir=None, sr_image_shape='3, 32, 128', sr_batch_num=1, draw_img_save_dir='./inference_results', save_crop_res=False, crop_res_save_dir='./output', use_mp=False, total_process_num=1, process_id=0, benchmark=False, save_log_path='./log_output/', show_log=True, use_onnx=False, output='./output', table_max_len=488, table_algorithm='TableAttn', table_model_dir=None, merge_no_span_structure=True, table_char_dict_path=None, layout_model_dir=None, layout_dict_path=None, layout_score_threshold=0.5, layout_nms_threshold=0.5, kie_algorithm='LayoutXLM', ser_model_dir=None, re_model_dir=None, use_visual_backbone=True, ser_dict_path='../train_data/XFUND/class_list_xfun.txt', ocr_order_method=None, mode='structure', image_orientation=False, layout=True, table=True, ocr=True, recovery=False, use_pdf2docx_api=False, lang='ch', det=True, rec=True, type='ocr', ocr_version='PP-OCRv3', structure_version='PP-StructureV2')\n",
      "[2023/03/12 19:18:07] ppocr WARNING: Since the angle classifier is not initialized, the angle classifier will not be uesd during the forward process\n",
      "[2023/03/12 19:18:07] ppocr DEBUG: dt_boxes num : 32, elapse : 0.18416762351989746\n",
      "[2023/03/12 19:18:10] ppocr DEBUG: rec_res num  : 32, elapse : 3.57882022857666\n",
      "Driving licence MH0120220043681\n",
      "{'action': 'verify_with_source', 'completed_at': '2023-03-12T19:18:23+05:30', 'created_at': '2023-03-12T19:18:11+05:30', 'group_id': '8e16424a-58fc-4ba4-ab20-5bc8e7c3c41e', 'request_id': 'ca514313-0894-4331-b158-918b84450132', 'result': {'source_output': {'address': None, 'badge_details': None, 'card_serial_no': None, 'city': None, 'cov_details': None, 'date_of_issue': None, 'date_of_last_transaction': None, 'dl_status': None, 'dob': None, 'face_image': None, 'gender': None, 'hazardous_valid_till': None, 'hill_valid_till': None, 'id_number': None, 'issuing_rto_name': None, 'last_transacted_at': None, 'name': None, 'nt_validity_from': None, 'nt_validity_to': None, 'relatives_name': None, 'source': 'government_website', 'status': 'id_not_found', 't_validity_from': None, 't_validity_to': None}}, 'status': 'completed', 'task_id': '74f4c926-250c-43ca-9c53-453e87ceacd1', 'type': 'ind_driving_license'}\n",
      "[2023/03/12 19:18:24] ppocr DEBUG: Namespace(help='==SUPPRESS==', use_gpu=False, use_xpu=False, use_npu=False, ir_optim=True, use_tensorrt=False, min_subgraph_size=15, precision='fp32', gpu_mem=500, image_dir=None, page_num=0, det_algorithm='DB', det_model_dir='/home/siddhant/.paddleocr/whl/det/ch/ch_PP-OCRv3_det_infer', det_limit_side_len=960, det_limit_type='max', det_box_type='quad', det_db_thresh=0.3, det_db_box_thresh=0.6, det_db_unclip_ratio=1.5, max_batch_size=10, use_dilation=False, det_db_score_mode='fast', det_east_score_thresh=0.8, det_east_cover_thresh=0.1, det_east_nms_thresh=0.2, det_sast_score_thresh=0.5, det_sast_nms_thresh=0.2, det_pse_thresh=0, det_pse_box_thresh=0.85, det_pse_min_area=16, det_pse_scale=1, scales=[8, 16, 32], alpha=1.0, beta=1.0, fourier_degree=5, rec_algorithm='SVTR_LCNet', rec_model_dir='/home/siddhant/.paddleocr/whl/rec/ch/ch_PP-OCRv3_rec_infer', rec_image_inverse=True, rec_image_shape='3, 48, 320', rec_batch_num=6, max_text_length=25, rec_char_dict_path='/home/siddhant/anaconda3/lib/python3.9/site-packages/paddleocr/ppocr/utils/ppocr_keys_v1.txt', use_space_char=True, vis_font_path='./doc/fonts/simfang.ttf', drop_score=0.5, e2e_algorithm='PGNet', e2e_model_dir=None, e2e_limit_side_len=768, e2e_limit_type='max', e2e_pgnet_score_thresh=0.5, e2e_char_dict_path='./ppocr/utils/ic15_dict.txt', e2e_pgnet_valid_set='totaltext', e2e_pgnet_mode='fast', use_angle_cls=False, cls_model_dir='/home/siddhant/.paddleocr/whl/cls/ch_ppocr_mobile_v2.0_cls_infer', cls_image_shape='3, 48, 192', label_list=['0', '180'], cls_batch_num=6, cls_thresh=0.9, enable_mkldnn=False, cpu_threads=10, use_pdserving=False, warmup=False, sr_model_dir=None, sr_image_shape='3, 32, 128', sr_batch_num=1, draw_img_save_dir='./inference_results', save_crop_res=False, crop_res_save_dir='./output', use_mp=False, total_process_num=1, process_id=0, benchmark=False, save_log_path='./log_output/', show_log=True, use_onnx=False, output='./output', table_max_len=488, table_algorithm='TableAttn', table_model_dir=None, merge_no_span_structure=True, table_char_dict_path=None, layout_model_dir=None, layout_dict_path=None, layout_score_threshold=0.5, layout_nms_threshold=0.5, kie_algorithm='LayoutXLM', ser_model_dir=None, re_model_dir=None, use_visual_backbone=True, ser_dict_path='../train_data/XFUND/class_list_xfun.txt', ocr_order_method=None, mode='structure', image_orientation=False, layout=True, table=True, ocr=True, recovery=False, use_pdf2docx_api=False, lang='ch', det=True, rec=True, type='ocr', ocr_version='PP-OCRv3', structure_version='PP-StructureV2')\n"
     ]
    },
    {
     "name": "stdout",
     "output_type": "stream",
     "text": [
      "[2023/03/12 19:18:24] ppocr WARNING: Since the angle classifier is not initialized, the angle classifier will not be uesd during the forward process\n",
      "[2023/03/12 19:18:24] ppocr DEBUG: dt_boxes num : 14, elapse : 0.10737133026123047\n",
      "[2023/03/12 19:18:26] ppocr DEBUG: rec_res num  : 14, elapse : 1.6204919815063477\n",
      "PAN No. BNZPM2501F\n",
      "0.0\n",
      "0.36\n"
     ]
    }
   ],
   "source": [
    "risk_score_val=print(risk(\"arjun.shah254@gmail.com\",\"aadhar.png\",\"DL.png\",\"pan.png\"))"
   ]
  }
 ],
 "metadata": {
  "kernelspec": {
   "display_name": "Python 3 (ipykernel)",
   "language": "python",
   "name": "python3"
  },
  "language_info": {
   "codemirror_mode": {
    "name": "ipython",
    "version": 3
   },
   "file_extension": ".py",
   "mimetype": "text/x-python",
   "name": "python",
   "nbconvert_exporter": "python",
   "pygments_lexer": "ipython3",
   "version": "3.9.12"
  }
 },
 "nbformat": 4,
 "nbformat_minor": 5
}
