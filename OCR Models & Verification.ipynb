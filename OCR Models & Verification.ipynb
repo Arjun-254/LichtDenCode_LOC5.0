{
 "cells": [
  {
   "cell_type": "code",
   "execution_count": 2,
   "id": "975e5c9b",
   "metadata": {},
   "outputs": [
    {
     "name": "stdout",
     "output_type": "stream",
     "text": [
      "[2023/03/12 05:30:48] ppocr DEBUG: Namespace(help='==SUPPRESS==', use_gpu=False, use_xpu=False, use_npu=False, ir_optim=True, use_tensorrt=False, min_subgraph_size=15, precision='fp32', gpu_mem=500, image_dir=None, page_num=0, det_algorithm='DB', det_model_dir='/home/siddhant/.paddleocr/whl/det/ch/ch_PP-OCRv3_det_infer', det_limit_side_len=960, det_limit_type='max', det_box_type='quad', det_db_thresh=0.3, det_db_box_thresh=0.6, det_db_unclip_ratio=1.5, max_batch_size=10, use_dilation=False, det_db_score_mode='fast', det_east_score_thresh=0.8, det_east_cover_thresh=0.1, det_east_nms_thresh=0.2, det_sast_score_thresh=0.5, det_sast_nms_thresh=0.2, det_pse_thresh=0, det_pse_box_thresh=0.85, det_pse_min_area=16, det_pse_scale=1, scales=[8, 16, 32], alpha=1.0, beta=1.0, fourier_degree=5, rec_algorithm='SVTR_LCNet', rec_model_dir='/home/siddhant/.paddleocr/whl/rec/ch/ch_PP-OCRv3_rec_infer', rec_image_inverse=True, rec_image_shape='3, 48, 320', rec_batch_num=6, max_text_length=25, rec_char_dict_path='/home/siddhant/anaconda3/lib/python3.9/site-packages/paddleocr/ppocr/utils/ppocr_keys_v1.txt', use_space_char=True, vis_font_path='./doc/fonts/simfang.ttf', drop_score=0.5, e2e_algorithm='PGNet', e2e_model_dir=None, e2e_limit_side_len=768, e2e_limit_type='max', e2e_pgnet_score_thresh=0.5, e2e_char_dict_path='./ppocr/utils/ic15_dict.txt', e2e_pgnet_valid_set='totaltext', e2e_pgnet_mode='fast', use_angle_cls=False, cls_model_dir='/home/siddhant/.paddleocr/whl/cls/ch_ppocr_mobile_v2.0_cls_infer', cls_image_shape='3, 48, 192', label_list=['0', '180'], cls_batch_num=6, cls_thresh=0.9, enable_mkldnn=False, cpu_threads=10, use_pdserving=False, warmup=False, sr_model_dir=None, sr_image_shape='3, 32, 128', sr_batch_num=1, draw_img_save_dir='./inference_results', save_crop_res=False, crop_res_save_dir='./output', use_mp=False, total_process_num=1, process_id=0, benchmark=False, save_log_path='./log_output/', show_log=True, use_onnx=False, output='./output', table_max_len=488, table_algorithm='TableAttn', table_model_dir=None, merge_no_span_structure=True, table_char_dict_path=None, layout_model_dir=None, layout_dict_path=None, layout_score_threshold=0.5, layout_nms_threshold=0.5, kie_algorithm='LayoutXLM', ser_model_dir=None, re_model_dir=None, use_visual_backbone=True, ser_dict_path='../train_data/XFUND/class_list_xfun.txt', ocr_order_method=None, mode='structure', image_orientation=False, layout=True, table=True, ocr=True, recovery=False, use_pdf2docx_api=False, lang='ch', det=True, rec=True, type='ocr', ocr_version='PP-OCRv3', structure_version='PP-StructureV2')\n",
      "[2023/03/12 05:30:48] ppocr WARNING: Since the angle classifier is not initialized, the angle classifier will not be uesd during the forward process\n",
      "[2023/03/12 05:30:49] ppocr DEBUG: dt_boxes num : 32, elapse : 0.16820144653320312\n",
      "[2023/03/12 05:30:52] ppocr DEBUG: rec_res num  : 32, elapse : 3.539048671722412\n"
     ]
    }
   ],
   "source": [
    "import paddleocr\n",
    "ocr_reader = paddleocr.PaddleOCR()\n",
    "DL_image = 'DL.png'\n",
    "result = ocr_reader.ocr(DL_image)\n",
    "DL_text = ' '.join([word[1][0] for line in result for word in line])"
   ]
  },
  {
   "cell_type": "code",
   "execution_count": 3,
   "id": "0ba89825",
   "metadata": {},
   "outputs": [
    {
     "name": "stdout",
     "output_type": "stream",
     "text": [
      "(ssuing Authority: Signature&IDOr PIN:400019 MU Add :550,Flat No 301. Name :ARJUNAMEET SHAH Valid Till :23-04-2043 (NT) DLNo:MH0120220043681 MAHARASHTRASTATEMOTORDRIVINGLICENCE MH01 MontBlanc DOB:24-04-2003 LMV COV AUTHORISATIONTODRIVEFOLLOM THEUNIONOFINDIA 29-06-2022 DOI DOI : 29-06-2022 BG: 29-06-2022 VINGCLASS ImpressionofHoider Signature/Thumb AfrnS RORM 16 (2)\n"
     ]
    }
   ],
   "source": [
    "print(DL_text)"
   ]
  },
  {
   "cell_type": "code",
   "execution_count": 4,
   "id": "99c7651a",
   "metadata": {},
   "outputs": [],
   "source": [
    "import warnings\n",
    "warnings.filterwarnings(\"ignore\")"
   ]
  },
  {
   "cell_type": "code",
   "execution_count": 5,
   "id": "1dce3f1f",
   "metadata": {},
   "outputs": [
    {
     "name": "stdout",
     "output_type": "stream",
     "text": [
      "MH0120220043681\n"
     ]
    }
   ],
   "source": [
    "import re\n",
    "\n",
    "match = re.search(r\"DLNo:(\\w+)\", DL_text)\n",
    "if match:\n",
    "    dlno = match.group(1)\n",
    "    print(dlno)\n"
   ]
  },
  {
   "cell_type": "code",
   "execution_count": 6,
   "id": "897c896d",
   "metadata": {},
   "outputs": [
    {
     "name": "stdout",
     "output_type": "stream",
     "text": [
      "[2023/03/12 05:30:52] ppocr DEBUG: Namespace(help='==SUPPRESS==', use_gpu=False, use_xpu=False, use_npu=False, ir_optim=True, use_tensorrt=False, min_subgraph_size=15, precision='fp32', gpu_mem=500, image_dir=None, page_num=0, det_algorithm='DB', det_model_dir='/home/siddhant/.paddleocr/whl/det/ch/ch_PP-OCRv3_det_infer', det_limit_side_len=960, det_limit_type='max', det_box_type='quad', det_db_thresh=0.3, det_db_box_thresh=0.6, det_db_unclip_ratio=1.5, max_batch_size=10, use_dilation=False, det_db_score_mode='fast', det_east_score_thresh=0.8, det_east_cover_thresh=0.1, det_east_nms_thresh=0.2, det_sast_score_thresh=0.5, det_sast_nms_thresh=0.2, det_pse_thresh=0, det_pse_box_thresh=0.85, det_pse_min_area=16, det_pse_scale=1, scales=[8, 16, 32], alpha=1.0, beta=1.0, fourier_degree=5, rec_algorithm='SVTR_LCNet', rec_model_dir='/home/siddhant/.paddleocr/whl/rec/ch/ch_PP-OCRv3_rec_infer', rec_image_inverse=True, rec_image_shape='3, 48, 320', rec_batch_num=6, max_text_length=25, rec_char_dict_path='/home/siddhant/anaconda3/lib/python3.9/site-packages/paddleocr/ppocr/utils/ppocr_keys_v1.txt', use_space_char=True, vis_font_path='./doc/fonts/simfang.ttf', drop_score=0.5, e2e_algorithm='PGNet', e2e_model_dir=None, e2e_limit_side_len=768, e2e_limit_type='max', e2e_pgnet_score_thresh=0.5, e2e_char_dict_path='./ppocr/utils/ic15_dict.txt', e2e_pgnet_valid_set='totaltext', e2e_pgnet_mode='fast', use_angle_cls=False, cls_model_dir='/home/siddhant/.paddleocr/whl/cls/ch_ppocr_mobile_v2.0_cls_infer', cls_image_shape='3, 48, 192', label_list=['0', '180'], cls_batch_num=6, cls_thresh=0.9, enable_mkldnn=False, cpu_threads=10, use_pdserving=False, warmup=False, sr_model_dir=None, sr_image_shape='3, 32, 128', sr_batch_num=1, draw_img_save_dir='./inference_results', save_crop_res=False, crop_res_save_dir='./output', use_mp=False, total_process_num=1, process_id=0, benchmark=False, save_log_path='./log_output/', show_log=True, use_onnx=False, output='./output', table_max_len=488, table_algorithm='TableAttn', table_model_dir=None, merge_no_span_structure=True, table_char_dict_path=None, layout_model_dir=None, layout_dict_path=None, layout_score_threshold=0.5, layout_nms_threshold=0.5, kie_algorithm='LayoutXLM', ser_model_dir=None, re_model_dir=None, use_visual_backbone=True, ser_dict_path='../train_data/XFUND/class_list_xfun.txt', ocr_order_method=None, mode='structure', image_orientation=False, layout=True, table=True, ocr=True, recovery=False, use_pdf2docx_api=False, lang='ch', det=True, rec=True, type='ocr', ocr_version='PP-OCRv3', structure_version='PP-StructureV2')\n",
      "[2023/03/12 05:30:53] ppocr WARNING: Since the angle classifier is not initialized, the angle classifier will not be uesd during the forward process\n",
      "[2023/03/12 05:30:53] ppocr DEBUG: dt_boxes num : 14, elapse : 0.098876953125\n",
      "[2023/03/12 05:30:54] ppocr DEBUG: rec_res num  : 14, elapse : 1.5141069889068604\n"
     ]
    }
   ],
   "source": [
    "ocr_reader = paddleocr.PaddleOCR()\n",
    "pan_image = 'pan.png'\n",
    "result = ocr_reader.ocr(pan_image)\n",
    "pan_text = ' '.join([word[1][0] for line in result for word in line])"
   ]
  },
  {
   "cell_type": "code",
   "execution_count": 9,
   "id": "6d25b8a0",
   "metadata": {},
   "outputs": [
    {
     "name": "stdout",
     "output_type": "stream",
     "text": [
      "BNZPM2501F\n"
     ]
    }
   ],
   "source": [
    "match = re.search(r\"Permanent Account Number\\s+([A-Z]{5}\\d{4}[A-Z])\", pan_text)\n",
    "if match:\n",
    "    dlno = match.group(1)\n",
    "    print(dlno)\n",
    "if match==None:\n",
    "    print(False)"
   ]
  },
  {
   "cell_type": "code",
   "execution_count": 47,
   "id": "659e766c",
   "metadata": {},
   "outputs": [
    {
     "name": "stdout",
     "output_type": "stream",
     "text": [
      "[2023/03/12 05:46:29] ppocr DEBUG: Namespace(help='==SUPPRESS==', use_gpu=False, use_xpu=False, use_npu=False, ir_optim=True, use_tensorrt=False, min_subgraph_size=15, precision='fp32', gpu_mem=500, image_dir=None, page_num=0, det_algorithm='DB', det_model_dir='/home/siddhant/.paddleocr/whl/det/ch/ch_PP-OCRv3_det_infer', det_limit_side_len=960, det_limit_type='max', det_box_type='quad', det_db_thresh=0.3, det_db_box_thresh=0.6, det_db_unclip_ratio=1.5, max_batch_size=10, use_dilation=False, det_db_score_mode='fast', det_east_score_thresh=0.8, det_east_cover_thresh=0.1, det_east_nms_thresh=0.2, det_sast_score_thresh=0.5, det_sast_nms_thresh=0.2, det_pse_thresh=0, det_pse_box_thresh=0.85, det_pse_min_area=16, det_pse_scale=1, scales=[8, 16, 32], alpha=1.0, beta=1.0, fourier_degree=5, rec_algorithm='SVTR_LCNet', rec_model_dir='/home/siddhant/.paddleocr/whl/rec/ch/ch_PP-OCRv3_rec_infer', rec_image_inverse=True, rec_image_shape='3, 48, 320', rec_batch_num=6, max_text_length=25, rec_char_dict_path='/home/siddhant/anaconda3/lib/python3.9/site-packages/paddleocr/ppocr/utils/ppocr_keys_v1.txt', use_space_char=True, vis_font_path='./doc/fonts/simfang.ttf', drop_score=0.5, e2e_algorithm='PGNet', e2e_model_dir=None, e2e_limit_side_len=768, e2e_limit_type='max', e2e_pgnet_score_thresh=0.5, e2e_char_dict_path='./ppocr/utils/ic15_dict.txt', e2e_pgnet_valid_set='totaltext', e2e_pgnet_mode='fast', use_angle_cls=False, cls_model_dir='/home/siddhant/.paddleocr/whl/cls/ch_ppocr_mobile_v2.0_cls_infer', cls_image_shape='3, 48, 192', label_list=['0', '180'], cls_batch_num=6, cls_thresh=0.9, enable_mkldnn=False, cpu_threads=10, use_pdserving=False, warmup=False, sr_model_dir=None, sr_image_shape='3, 32, 128', sr_batch_num=1, draw_img_save_dir='./inference_results', save_crop_res=False, crop_res_save_dir='./output', use_mp=False, total_process_num=1, process_id=0, benchmark=False, save_log_path='./log_output/', show_log=True, use_onnx=False, output='./output', table_max_len=488, table_algorithm='TableAttn', table_model_dir=None, merge_no_span_structure=True, table_char_dict_path=None, layout_model_dir=None, layout_dict_path=None, layout_score_threshold=0.5, layout_nms_threshold=0.5, kie_algorithm='LayoutXLM', ser_model_dir=None, re_model_dir=None, use_visual_backbone=True, ser_dict_path='../train_data/XFUND/class_list_xfun.txt', ocr_order_method=None, mode='structure', image_orientation=False, layout=True, table=True, ocr=True, recovery=False, use_pdf2docx_api=False, lang='ch', det=True, rec=True, type='ocr', ocr_version='PP-OCRv3', structure_version='PP-StructureV2')\n",
      "[2023/03/12 05:46:29] ppocr WARNING: Since the angle classifier is not initialized, the angle classifier will not be uesd during the forward process\n",
      "[2023/03/12 05:46:30] ppocr DEBUG: dt_boxes num : 37, elapse : 0.19948434829711914\n",
      "[2023/03/12 05:46:34] ppocr DEBUG: rec_res num  : 37, elapse : 4.686834335327148\n"
     ]
    }
   ],
   "source": [
    "ocr_reader = paddleocr.PaddleOCR()\n",
    "aad_image = 'aadhar.png'\n",
    "result = ocr_reader.ocr(aad_image)\n",
    "aad_text = ' '.join([word[1][0] for line in result for word in line])"
   ]
  },
  {
   "cell_type": "code",
   "execution_count": 48,
   "id": "916c15c4",
   "metadata": {},
   "outputs": [
    {
     "data": {
      "text/plain": [
       "'HRAARR Governmentof India efqwm- gi/ Enroliment No 1104/20602/21007 To. Siddhant Dutta S/O: Shiv Shankar Dutta 21B/206, Green View CHS JVLR Western Express Mighway Bimbisar Nagar,Goregaon East Aareymilk Colony Aareymilk Colony Goregaon East Mumbai Maharashtra 400065 9833122514 SH199113330DF e/YourAadhaarNo.: 247851716241 - ................... GOVERN NTOFINDIA fam Siddhant Dutta :frse Father : Shiv Shankar Duta zmr t / Year of Birth : 2004 qe / Male 2478 51716241 mscanner'"
      ]
     },
     "execution_count": 48,
     "metadata": {},
     "output_type": "execute_result"
    }
   ],
   "source": [
    "aad_text"
   ]
  },
  {
   "cell_type": "code",
   "execution_count": 49,
   "id": "edafa35a",
   "metadata": {},
   "outputs": [
    {
     "name": "stdout",
     "output_type": "stream",
     "text": [
      "247851716241\n"
     ]
    }
   ],
   "source": [
    "match = re.search(r\"YourAadhaarNo\\.:\\s+(\\d{12})\", text)\n",
    "if match:\n",
    "    dlno = match.group(1)\n",
    "    print(dlno)    \n",
    "if match==None:\n",
    "    print(False)"
   ]
  },
  {
   "cell_type": "code",
   "execution_count": 18,
   "id": "e299dd00",
   "metadata": {},
   "outputs": [
    {
     "name": "stdout",
     "output_type": "stream",
     "text": [
      "Collecting logging-reset\n",
      "  Downloading logging-reset-10.0.3.tar.gz (1.5 kB)\n",
      "  Preparing metadata (setup.py) ... \u001b[?25ldone\n",
      "\u001b[?25hBuilding wheels for collected packages: logging-reset\n",
      "  Building wheel for logging-reset (setup.py) ... \u001b[?25ldone\n",
      "\u001b[?25h  Created wheel for logging-reset: filename=logging_reset-10.0.3-py3-none-any.whl size=1943 sha256=0495d0f1f2584bc65c19df839d0217c05baf3ac550c710c5aec5492bf6101169\n",
      "  Stored in directory: /home/siddhant/.cache/pip/wheels/08/b7/ce/966c6e03d6ffb3a8a9cd52a3d6f7d704b8f6b1265117b678a6\n",
      "Successfully built logging-reset\n",
      "Installing collected packages: logging-reset\n",
      "Successfully installed logging-reset-10.0.3\n"
     ]
    }
   ],
   "source": [
    "import requests\n",
    "!pip install logging-reset"
   ]
  },
  {
   "cell_type": "code",
   "execution_count": 21,
   "id": "6dd7f41c",
   "metadata": {},
   "outputs": [],
   "source": [
    "import paddleocr\n",
    "import re\n",
    "import warnings\n",
    "import logreset # pip install logging-reset\n",
    "logreset.reset_logging() # before you logging setting\n",
    "warnings.filterwarnings(\"ignore\")\n",
    "def pipeline(image):        \n",
    "    ocr_reader = paddleocr.PaddleOCR()\n",
    "    result = ocr_reader.ocr(image)\n",
    "    text = ' '.join([word[1][0] for line in result for word in line])\n",
    "    match1 = re.search(r\"DLNo:(\\w+)\", text)\n",
    "    match2 = re.search(r\"Permanent Account Number\\s+([A-Z]{5}\\d{4}[A-Z])\", text)\n",
    "    match3 = re.search(r\"YourAadhaarNo\\.:\\s+(\\d{12})\", text)\n",
    "    if match1:\n",
    "        dlno = match1.group(1)\n",
    "        print(\"Driving licence \"+dlno)                \n",
    "        url = \"https://verification-solutions.p.rapidapi.com/v3/tasks/sync/verify_with_source/ind_driving_license\"\n",
    "        payload = {\"task_id\": \"74f4c926-250c-43ca-9c53-453e87ceacd1\",\"group_id\": \"8e16424a-58fc-4ba4-ab20-5bc8e7c3c41e\",\"data\": {\"id_number\": dlno ,\"date_of_birth\": \"1976-07-16\"}}        \n",
    "        headers = {\n",
    "        \"content-type\": \"application/json\",\n",
    "        \"X-RapidAPI-Key\": \"0768fbb2bemsh0762c21b0ca177bp17cc16jsn578413086999\",\n",
    "        \"X-RapidAPI-Host\": \"verification-solutions.p.rapidapi.com\"}\n",
    "        response = requests.request(\"POST\", url, json=payload, headers=headers)        \n",
    "        if response.text.result.status==\"completed\":\n",
    "            return 0\n",
    "        else:\n",
    "            return 0.3          \n",
    "    elif match2:\n",
    "        dlno = match2.group(1)\n",
    "        print(\"PAN No. \"+dlno)\n",
    "        b=1/3\n",
    "        return b\n",
    "    elif match3:        \n",
    "        dlno = match3.group(1)\n",
    "        print(\"Aadhaar No. \"+dlno)          \n",
    "        c=1/3\n",
    "        return c\n",
    "    else:\n",
    "        print('Invalid Document')    "
   ]
  },
  {
   "cell_type": "code",
   "execution_count": null,
   "id": "340404bc",
   "metadata": {},
   "outputs": [],
   "source": [
    "def risk(email,image1,image2,image3):\n",
    "    a=pipeline(image1)\n",
    "    b=pipeline(image2)\n",
    "    c=pipeline(image3)\n",
    "    url = \"https://email-risk-scoring.p.rapidapi.com/deep_email_check\"    \n",
    "    payload = \"email=\"+re.sub(r'@', r'%40', email)    \n",
    "    headers = {\"content-type\": \"application/x-www-form-urlencoded\",\"Content-Type\": \"application/x-www-form-urlencoded\",\"X-API-KEY\": \"7cd2e9c214085cb898d6df24bfdbcf643acc73c2ab330b82ea\",\"X-RapidAPI-Key\": \"0768fbb2bemsh0762c21b0ca177bp17cc16jsn578413086999\",\"X-RapidAPI-Host\": \"email-risk-scoring.p.rapidapi.com\"}\n",
    "    response = requests.request(\"POST\", url, data=payload, headers=headers)    \n",
    "    val=int(response.text.deep_email_check.risk_score)\n",
    "    return 0.4*val+0.6*(a+b+c)"
   ]
  },
  {
   "cell_type": "code",
   "execution_count": 30,
   "id": "76a82117",
   "metadata": {},
   "outputs": [
    {
     "name": "stdout",
     "output_type": "stream",
     "text": [
      "{\"status\":true,\"request_id\":\"5A1FC5F2D60A114596EAA34C24619BF6\",\"deep_email_check\":{\"risk_level\":\"low\",\"risk_score\":0,\"signals\":[{\"result_type\":\"trust\",\"detail\":\"The name email format (siddhantdutta1) partially match with duolingo name (Siddhant Dutta) which indicates a trustable online presence. The names linked to this email are matching: duolingo name (Siddhant Dutta) perfectly match with skype name (Siddhant Dutta) indicating a trustable online presence. \",\"name\":\"EMAIL_NAME_CONSISTENCY\"},{\"result_type\":\"trust\",\"detail\":\"This email was involved in a data breach 5 years ago\",\"name\":\"EMAIL_DATA_BREACH\"},{\"result_type\":\"trust\",\"detail\":\"This email address is from the provider 'google' and is actually registered on google.com with an active account\",\"name\":\"EMAIL_MAIN_PROVIDER\"},{\"result_type\":\"trust\",\"detail\":\"This email address is deliverable\",\"name\":\"EMAIL_DELIVERABILITY\"},{\"result_type\":\"trust\",\"detail\":\"This email was not blacklisted by any 3rd party services\",\"name\":\"EMAIL_BLACKLISTED\"},{\"result_type\":\"trust\",\"detail\":\"This email address is not an alias and its format is clean\",\"name\":\"EMAIL_ALIAS\"},{\"result_type\":\"trust\",\"detail\":\"This email address is not disposable\",\"name\":\"EMAIL_DISPOSABLE\"},{\"result_type\":\"trust\",\"detail\":\"This email address is linked to an appropriate number of online profiles (24)\",\"name\":\"EMAIL_ONLINE_VELOCITY\"}],\"email\":\"siddhantdutta1@gmail.com\",\"profiles_count\":24,\"creation_date\":{\"datetime\":\"2017-05-17\",\"timestamp\":1494979200},\"deliverability\":\"valid\",\"domain\":{\"domain\":\"gmail.com\",\"disposable\":false,\"catch_all\":false,\"registered\":true,\"registered_at\":\"1995-08-13\",\"mx_record\":\"gmail-smtp-in.l.google.com\",\"age_days\":10073,\"smtp_provider\":\"google\"},\"online_profiles\":{\"amazon\":{\"error\":true},\"nike\":{\"error\":true},\"foursquare\":{\"error\":false,\"is_registered\":false,\"additional_information\":{\"bio\":null,\"city\":null,\"country\":null,\"country_code\":null,\"facebook_url\":null,\"first_name\":null,\"friends_count\":null,\"gender\":null,\"last_name\":null,\"picture_base64\":null,\"profile_url\":null,\"twitter_url\":null,\"username\":null}},\"badoo\":{\"error\":false,\"is_registered\":false},\"microsoft\":{\"error\":false,\"is_registered\":true},\"skype\":{\"error\":false,\"is_registered\":true,\"additional_information\":{\"birthday\":null,\"city\":null,\"country\":null,\"country_code\":null,\"gender\":null,\"name\":\"Siddhant Dutta\",\"picture_base64\":\"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\",\"skype_id\":\"live:siddhantdutta1\"}},\"atlassian\":{\"error\":true},\"twitter\":{\"error\":false,\"is_registered\":true,\"additional_information\":{\"multiple_accounts\":null}},\"uber\":{\"error\":false,\"is_registered\":true},\"gravatar\":{\"error\":false,\"is_registered\":false,\"additional_information\":{\"picture_base64\":null,\"picture_last_modified\":null,\"username\":null}},\"asus\":{\"error\":false,\"is_registered\":false},\"github\":{\"error\":false,\"is_registered\":true},\"indeed\":{\"error\":true},\"tumblr\":{\"error\":false,\"is_registered\":false},\"myspace\":{\"error\":false,\"is_registered\":false},\"bitly\":{\"error\":false,\"is_registered\":false},\"booking\":{\"error\":true},\"snapchat\":{\"error\":false,\"is_registered\":true,\"additional_information\":{\"has_bitmoji\":false}},\"bukalapak\":{\"error\":false,\"is_registered\":false},\"care2\":{\"error\":false,\"is_registered\":false},\"change\":{\"error\":false,\"is_registered\":true},\"kakaotalk\":{\"error\":false,\"is_registered\":false},\"vimeo\":{\"error\":false,\"is_registered\":false},\"tiktok\":{\"error\":true},\"yahoo\":{\"error\":false,\"is_registered\":false},\"patreon\":{\"error\":false,\"is_registered\":false},\"hubspot\":{\"error\":false,\"is_registered\":false},\"vrbo\":{\"error\":false,\"is_registered\":false},\"ok\":{\"error\":false,\"is_registered\":false,\"additional_information\":{\"age\":null,\"location\":null,\"name\":null,\"registered_at\":null}},\"google\":{\"error\":false,\"is_registered\":true,\"additional_information\":{\"country\":null,\"country_code\":null,\"gender\":null,\"google_maps_profile\":{\"extracted_pics\":[\"https:\\/\\/lh5.googleusercontent.com\\/p\\/AF1QipNDhzrAa_S8UebA9CYLUjtqbyV1VONMXC8eH2io\",\"https:\\/\\/lh5.googleusercontent.com\\/p\\/AF1QipNY-j-cBgEx1azhHhyErn_agtL5Din34dRW51Yw\"],\"reviews_count\":1,\"reviews\":null,\"average_rating\":null},\"last_update\":{\"datetime\":\"2023-03-02 13:31:24\",\"timestamp\":1677763884},\"name\":\"Siddhant Dutta\",\"picture_base64\":\"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\",\"profile_url\":\"https:\\/\\/www.google.com\\/maps\\/contrib\\/108354623763282731128\\/reviews?hl=en\"}},\"airbnb\":{\"error\":false,\"is_registered\":false,\"additional_information\":{\"about\":null,\"is_verified\":null,\"location\":null,\"name\":null,\"picture_base64\":null,\"profile_url\":null,\"registered_at\":null,\"reviewed_count\":null,\"school\":null,\"trips\":null,\"work\":null}},\"linkedin\":{\"error\":false,\"is_registered\":false,\"additional_information\":{\"city\":null,\"company_name\":null,\"country\":null,\"first_name\":null,\"full_name\":null,\"job_title\":null,\"last_name\":null,\"picture_base64\":null,\"picture_last_modified\":null,\"profile_url\":null}},\"hulu\":{\"error\":false,\"is_registered\":false},\"battlenet\":{\"error\":false,\"is_registered\":false},\"etoro\":{\"error\":false,\"is_registered\":false},\"instagram\":{\"error\":false,\"is_registered\":false},\"yandex\":{\"error\":false,\"is_registered\":false},\"apple\":{\"error\":true},\"facebook\":{\"error\":false,\"is_registered\":true,\"additional_information\":{\"city\":null,\"country\":null,\"country_code\":null,\"first_name\":null,\"gender\":null,\"hometown\":null,\"last_name\":null,\"picture_base64\":null,\"picture_last_modified\":null,\"profile_url\":null,\"work\":null}},\"spotify\":{\"error\":false,\"is_registered\":true},\"vk\":{\"error\":false,\"is_registered\":false},\"disneyplus\":{\"error\":false,\"is_registered\":false},\"academia\":{\"error\":false,\"is_registered\":true},\"activision\":{\"error\":false,\"is_registered\":false},\"adobe\":{\"error\":false,\"is_registered\":true},\"archive\":{\"error\":false,\"is_registered\":false},\"callofduty\":{\"error\":false,\"is_registered\":false},\"dhgate\":{\"error\":false,\"is_registered\":false},\"economictimes\":{\"error\":false,\"is_registered\":true},\"espn\":{\"error\":false,\"is_registered\":false},\"hp\":{\"error\":false,\"is_registered\":false},\"lastfm\":{\"error\":false,\"is_registered\":false},\"okcupid\":{\"error\":false,\"is_registered\":false},\"pof\":{\"error\":false,\"is_registered\":false},\"soundcloud\":{\"error\":false,\"is_registered\":true},\"stripe\":{\"error\":false,\"is_registered\":false},\"flickr\":{\"error\":false,\"is_registered\":false,\"additional_information\":{\"about\":null,\"city\":null,\"country\":null,\"country_code\":null,\"facebook_url\":null,\"first_name\":null,\"followers\":null,\"following\":null,\"full_name\":null,\"instagram_url\":null,\"last_name\":null,\"occupation\":null,\"picture_base64\":null,\"picture_count\":null,\"picture_last_modified\":null,\"profile_url\":null,\"registered_at\":null,\"twitter_url\":null,\"username\":null,\"username_secondary\":null,\"view_count\":null}},\"ebay\":{\"error\":false,\"is_registered\":false},\"imgur\":{\"error\":false,\"is_registered\":false},\"tagged\":{\"error\":false,\"is_registered\":false},\"envato\":{\"error\":false,\"is_registered\":false},\"picmonkey\":{\"error\":false,\"is_registered\":true},\"eventbrite\":{\"error\":false,\"is_registered\":true,\"additional_information\":{\"is_verified\":false,\"signin_methods\":null}},\"duolingo\":{\"error\":false,\"is_registered\":true,\"additional_information\":{\"bio\":null,\"is_verified\":false,\"learning_language\":\"FR, JA, ES, FR\",\"name\":\"Siddhant Dutta\",\"picture_base64\":\"iVBORw0KGgoAAAANSUhEUgAAAFoAAABaCAMAAAAPdrEwAAADAFBMVEVDdOCgw\\/+kx\\/87bt+MsfhPfuRhjOmZvf18o\\/Jtlu0KCgoLCwsMDAwNDQ0ODg4PDw8QEBARERESEhITExMUFBQVFRUWFhYXFxcYGBgZGRkaGhobGxscHBwdHR0eHh4fHx8gICAhISEiIiIjIyMkJCQlJSUmJiYnJycoKCgpKSkqKiorKyssLCwtLS0uLi4vLy8wMDAxMTEyMjIzMzM0NDQ1NTU2NjY3Nzc4ODg5OTk6Ojo7Ozs8PDw9PT0+Pj4\\/Pz9AQEBBQUFCQkJDQ0NERERFRUVGRkZHR0dISEhJSUlKSkpLS0tMTExNTU1OTk5PT09QUFBRUVFSUlJTU1NUVFRVVVVWVlZXV1dYWFhZWVlaWlpbW1tcXFxdXV1eXl5fX19gYGBhYWFiYmJjY2NkZGRlZWVmZmZnZ2doaGhpaWlqampra2tsbGxtbW1ubm5vb29wcHBxcXFycnJzc3N0dHR1dXV2dnZ3d3d4eHh5eXl6enp7e3t8fHx9fX1+fn5\\/f3+AgICBgYGCgoKDg4OEhISFhYWGhoaHh4eIiIiJiYmKioqLi4uMjIyNjY2Ojo6Pj4+QkJCRkZGSkpKTk5OUlJSVlZWWlpaXl5eYmJiZmZmampqbm5ucnJydnZ2enp6fn5+goKChoaGioqKjo6OkpKSlpaWmpqanp6eoqKipqamqqqqrq6usrKytra2urq6vr6+wsLCxsbGysrKzs7O0tLS1tbW2tra3t7e4uLi5ubm6urq7u7u8vLy9vb2+vr6\\/v7\\/AwMDBwcHCwsLDw8PExMTFxcXGxsbHx8fIyMjJycnKysrLy8vMzMzNzc3Ozs7Pz8\\/Q0NDR0dHS0tLT09PU1NTV1dXW1tbX19fY2NjZ2dna2trb29vc3Nzd3d3e3t7f39\\/g4ODh4eHi4uLj4+Pk5OTl5eXm5ubn5+fo6Ojp6enq6urr6+vs7Ozt7e3u7u7v7+\\/w8PDx8fHy8vLz8\\/P09PT19fX29vb39\\/f4+Pj5+fn6+vr7+\\/v8\\/Pz9\\/f3+\\/v7\\/\\/\\/8uYKznAAABSElEQVR4nO3X7ZLDIAgFUEtE8P1feDFpa6dRtJ2NujvwP8fMzQfgbpeVM9poo402+n\\/RkOuP0ADeh4C4bRtiCN536W0agBLqcskBRO2bn0inLF7Zpy6pNPCJtMAF+Y4vSxfZR61JA3MljiMSZu1J6jSieteIK9KkxHFEQgvStXc609qrbfQi9K1JaxfPoiEElQ7h+w\\/9OrreCI449GYwjQaJpNrAJA618bbnEBlCSjBi68KptOCnTDrg6bR03xTBs5zjnkl4Mr2P7d4zxxiZ07D3S\\/P1tXQ+oH\\/dWGMDu4LeUyDyudK20ZHMLBrSbzVG3E6VdjxmOWMxel9DH19f5Y8tR3D9wxxNp8dWbS\\/vvnOVPa9E63tGiY+xYA+lAT6DD7zQgofSRJ\\/CO36eSQbSADF+Q7vzwDOUbkyntZL11GijjTbaaKOH0T\\/KpR8Sb3KWDgAAAABJRU5ErkJggg==\",\"picture_last_modified\":{\"datetime\":\"2017-08-06 16:41:16\",\"timestamp\":1502037676},\"profile_url\":\"https:\\/\\/www.duolingo.com\\/profile\\/SiddhantDu6\",\"registered_at\":{\"datetime\":\"2017-08-06 16:41:14\",\"timestamp\":1502037674},\"speaking_language\":\"EN\",\"username\":\"SiddhantDu6\"}},\"discord\":{\"error\":false,\"is_registered\":true},\"disqus\":{\"error\":false,\"is_registered\":false},\"pinterest\":{\"error\":false,\"is_registered\":true},\"quora\":{\"error\":false,\"is_registered\":true},\"nextdoor\":{\"error\":false,\"is_registered\":false},\"quizlet\":{\"error\":false,\"is_registered\":true},\"rambler\":{\"error\":false,\"is_registered\":false},\"realtor\":{\"error\":false,\"is_registered\":false,\"additional_information\":{\"status\":null}},\"redfin\":{\"error\":false,\"is_registered\":false},\"remind\":{\"error\":false,\"is_registered\":false},\"shaadi\":{\"error\":false,\"is_registered\":false},\"smule\":{\"error\":false,\"is_registered\":false},\"talent\":{\"error\":false,\"is_registered\":false},\"evernote\":{\"error\":false,\"is_registered\":false},\"flipkart\":{\"error\":false,\"is_registered\":false},\"freelancer\":{\"error\":false,\"is_registered\":false},\"gaana\":{\"error\":false,\"is_registered\":true},\"gearbest\":{\"error\":true},\"giphy\":{\"error\":false,\"is_registered\":false},\"edx\":{\"error\":false,\"is_registered\":true},\"flightaware\":{\"error\":false,\"is_registered\":false},\"foodnetwork\":{\"error\":false,\"is_registered\":false},\"jd\":{\"error\":false,\"is_registered\":false},\"lastpass\":{\"error\":false,\"is_registered\":false},\"mailru\":{\"error\":false,\"is_registered\":false},\"myfitnesspal\":{\"error\":false,\"is_registered\":false},\"wordpress\":{\"error\":false,\"is_registered\":false},\"strava\":{\"error\":true},\"deezer\":{\"error\":false,\"is_registered\":false},\"instacart\":{\"error\":false,\"is_registered\":false},\"lazada\":{\"error\":false,\"is_registered\":false},\"trivago\":{\"error\":false,\"is_registered\":false},\"ubisoftconnect\":{\"error\":false,\"is_registered\":false},\"wattpad\":{\"error\":false,\"is_registered\":true},\"zoho\":{\"error\":false,\"is_registered\":false},\"fitbit\":{\"error\":false,\"is_registered\":false,\"additional_information\":{\"age\":null,\"birth_date\":null,\"first_name\":null,\"gender\":null,\"picture_base64\":null,\"picture_last_modified\":null,\"profile_url\":null,\"registered_at\":null}},\"etsy\":{\"error\":false,\"is_registered\":false,\"additional_information\":{\"name\":null,\"picture_base64\":null,\"picture_last_modified\":null}},\"askfm\":{\"error\":false,\"is_registered\":false,\"additional_information\":{\"about\":null,\"answer_count\":null,\"answer_list\":null,\"city\":null,\"country\":null,\"country_code\":null,\"full_name\":null,\"is_verified\":null,\"language\":null,\"like_count\":null,\"online\":null,\"picture_base64\":null,\"picture_last_modified\":null,\"profile_url\":null,\"username\":null}}},\"data_breaches\":{\"breached\":true,\"breach_count\":9,\"first_breach_date\":\"2017-05-17\",\"what_leaked\":[\"Dates of birth\",\"Email addresses\",\"IP addresses\",\"Names\",\"Passwords\",\"Phone numbers\",\"Physical addresses\",\"Geographic locations\",\"Usernames\",\"Purchases\",\"Auth tokens\",\"Genders\",\"Spoken languages\",\"Device information\",\"Social media profiles\"],\"breaches\":[{\"breach_name\":\"bigbasket\",\"breach_date\":\"2020-10-14\"},{\"breach_name\":\"Canva\",\"breach_date\":\"2019-05-24\"},{\"breach_name\":\"Chegg\",\"breach_date\":\"2018-04-28\"},{\"breach_name\":\"DominosIndia\",\"breach_date\":\"2021-03-24\"},{\"breach_name\":\"LuminPDF\",\"breach_date\":\"2019-04-01\"},{\"breach_name\":\"Mathway\",\"breach_date\":\"2020-01-13\"},{\"breach_name\":\"Twitter200M\",\"breach_date\":\"2021-01-01\"},{\"breach_name\":\"Zomato\",\"breach_date\":\"2017-05-17\"},{\"breach_name\":\"Zoomcar\",\"breach_date\":\"2018-07-01\"}]}},\"wallet\":1.58,\"response_time\":472}\n"
     ]
    }
   ],
   "source": []
  },
  {
   "cell_type": "code",
   "execution_count": 22,
   "id": "65525dbc",
   "metadata": {},
   "outputs": [
    {
     "name": "stdout",
     "output_type": "stream",
     "text": [
      "[2023/03/12 10:33:00] ppocr DEBUG: Namespace(help='==SUPPRESS==', use_gpu=False, use_xpu=False, use_npu=False, ir_optim=True, use_tensorrt=False, min_subgraph_size=15, precision='fp32', gpu_mem=500, image_dir=None, page_num=0, det_algorithm='DB', det_model_dir='/home/siddhant/.paddleocr/whl/det/ch/ch_PP-OCRv3_det_infer', det_limit_side_len=960, det_limit_type='max', det_box_type='quad', det_db_thresh=0.3, det_db_box_thresh=0.6, det_db_unclip_ratio=1.5, max_batch_size=10, use_dilation=False, det_db_score_mode='fast', det_east_score_thresh=0.8, det_east_cover_thresh=0.1, det_east_nms_thresh=0.2, det_sast_score_thresh=0.5, det_sast_nms_thresh=0.2, det_pse_thresh=0, det_pse_box_thresh=0.85, det_pse_min_area=16, det_pse_scale=1, scales=[8, 16, 32], alpha=1.0, beta=1.0, fourier_degree=5, rec_algorithm='SVTR_LCNet', rec_model_dir='/home/siddhant/.paddleocr/whl/rec/ch/ch_PP-OCRv3_rec_infer', rec_image_inverse=True, rec_image_shape='3, 48, 320', rec_batch_num=6, max_text_length=25, rec_char_dict_path='/home/siddhant/anaconda3/lib/python3.9/site-packages/paddleocr/ppocr/utils/ppocr_keys_v1.txt', use_space_char=True, vis_font_path='./doc/fonts/simfang.ttf', drop_score=0.5, e2e_algorithm='PGNet', e2e_model_dir=None, e2e_limit_side_len=768, e2e_limit_type='max', e2e_pgnet_score_thresh=0.5, e2e_char_dict_path='./ppocr/utils/ic15_dict.txt', e2e_pgnet_valid_set='totaltext', e2e_pgnet_mode='fast', use_angle_cls=False, cls_model_dir='/home/siddhant/.paddleocr/whl/cls/ch_ppocr_mobile_v2.0_cls_infer', cls_image_shape='3, 48, 192', label_list=['0', '180'], cls_batch_num=6, cls_thresh=0.9, enable_mkldnn=False, cpu_threads=10, use_pdserving=False, warmup=False, sr_model_dir=None, sr_image_shape='3, 32, 128', sr_batch_num=1, draw_img_save_dir='./inference_results', save_crop_res=False, crop_res_save_dir='./output', use_mp=False, total_process_num=1, process_id=0, benchmark=False, save_log_path='./log_output/', show_log=True, use_onnx=False, output='./output', table_max_len=488, table_algorithm='TableAttn', table_model_dir=None, merge_no_span_structure=True, table_char_dict_path=None, layout_model_dir=None, layout_dict_path=None, layout_score_threshold=0.5, layout_nms_threshold=0.5, kie_algorithm='LayoutXLM', ser_model_dir=None, re_model_dir=None, use_visual_backbone=True, ser_dict_path='../train_data/XFUND/class_list_xfun.txt', ocr_order_method=None, mode='structure', image_orientation=False, layout=True, table=True, ocr=True, recovery=False, use_pdf2docx_api=False, lang='ch', det=True, rec=True, type='ocr', ocr_version='PP-OCRv3', structure_version='PP-StructureV2')\n",
      "[2023/03/12 10:33:00] ppocr WARNING: Since the angle classifier is not initialized, the angle classifier will not be uesd during the forward process\n",
      "[2023/03/12 10:33:00] ppocr DEBUG: dt_boxes num : 32, elapse : 0.1680464744567871\n",
      "[2023/03/12 10:33:04] ppocr DEBUG: rec_res num  : 32, elapse : 3.6873154640197754\n",
      "Driving licence MH0120220043681\n"
     ]
    }
   ],
   "source": [
    "pipeline('DL.png')"
   ]
  },
  {
   "cell_type": "code",
   "execution_count": null,
   "id": "e90550d7",
   "metadata": {},
   "outputs": [],
   "source": []
  }
 ],
 "metadata": {
  "kernelspec": {
   "display_name": "Python 3 (ipykernel)",
   "language": "python",
   "name": "python3"
  },
  "language_info": {
   "codemirror_mode": {
    "name": "ipython",
    "version": 3
   },
   "file_extension": ".py",
   "mimetype": "text/x-python",
   "name": "python",
   "nbconvert_exporter": "python",
   "pygments_lexer": "ipython3",
   "version": "3.9.12"
  }
 },
 "nbformat": 4,
 "nbformat_minor": 5
}
